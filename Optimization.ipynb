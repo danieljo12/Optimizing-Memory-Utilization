{
  "nbformat": 4,
  "nbformat_minor": 0,
  "metadata": {
    "colab": {
      "provenance": [],
      "gpuType": "T4"
    },
    "kernelspec": {
      "name": "python3",
      "display_name": "Python 3"
    },
    "language_info": {
      "name": "python"
    },
    "accelerator": "GPU"
  },
  "cells": [
    {
      "cell_type": "code",
      "source": [
        "import numpy as np\n",
        "import tensorflow as tf\n",
        "from scipy.optimize import linprog"
      ],
      "metadata": {
        "id": "9OBk4sLHvOBi"
      },
      "execution_count": 2,
      "outputs": []
    },
    {
      "cell_type": "code",
      "source": [
        "def simulate_training_data(num_samples=10000, num_features=100, skewness=2.0):\n",
        "    # Generate categorical features with skewed distributions\n",
        "    feature_counts = np.random.zipf(skewness, size=num_features) # Assume we use the random skewed data\n",
        "    feature_counts = feature_counts / feature_counts.sum()\n",
        "\n",
        "    # Generate samples\n",
        "    samples = np.random.choice(num_features, size=(num_samples, 1), p=feature_counts)\n",
        "\n",
        "    return samples\n",
        "\n",
        "# Simulate data\n",
        "training_data = simulate_training_data()"
      ],
      "metadata": {
        "id": "HKO1uxJavPGd"
      },
      "execution_count": 3,
      "outputs": []
    },
    {
      "cell_type": "code",
      "source": [
        "def recshard(num_features, hbm_capacity, dram_capacity):\n",
        "    # Objective: Minimize the use of slower DRAM\n",
        "    c = np.append(np.zeros(hbm_capacity), np.ones(dram_capacity))\n",
        "\n",
        "    # Constraints: Sum of features in HBM and DRAM should be equal to total features\n",
        "    A_eq = np.append(np.ones(hbm_capacity), np.ones(dram_capacity)).reshape(1, -1)\n",
        "    b_eq = [num_features]\n",
        "\n",
        "    # Bounds: Features can only be assigned to HBM or DRAM\n",
        "    bounds = [(0, 1)] * (hbm_capacity + dram_capacity)\n",
        "\n",
        "    # Solve the MILP problem\n",
        "    result = linprog(c, A_eq=A_eq, b_eq=b_eq, bounds=bounds, method='highs')\n",
        "\n",
        "    # Extract the optimal solution\n",
        "    hbm_allocation = result.x[:hbm_capacity]\n",
        "    dram_allocation = result.x[hbm_capacity:]\n",
        "\n",
        "    return hbm_allocation, dram_allocation\n",
        "\n",
        "# Example usage\n",
        "hbm_capacity = 10  # Number of features that can fit in HBM\n",
        "dram_capacity = 20  # Number of features that can fit in DRAM\n",
        "hbm_allocation, dram_allocation = recshard(num_features=30, hbm_capacity=hbm_capacity, dram_capacity=dram_capacity)\n",
        "print(f\"HBM Allocation: {hbm_allocation}\")\n",
        "print(f\"DRAM Allocation: {dram_allocation}\")"
      ],
      "metadata": {
        "colab": {
          "base_uri": "https://localhost:8080/"
        },
        "id": "slHrQa4wvZbM",
        "outputId": "09d9e033-b071-4c36-99bd-32a4446ce793"
      },
      "execution_count": 5,
      "outputs": [
        {
          "output_type": "stream",
          "name": "stdout",
          "text": [
            "HBM Allocation: [1. 1. 1. 1. 1. 1. 1. 1. 1. 1.]\n",
            "DRAM Allocation: [1. 1. 1. 1. 1. 1. 1. 1. 1. 1. 1. 1. 1. 1. 1. 1. 1. 1. 1. 1.]\n"
          ]
        }
      ]
    },
    {
      "cell_type": "code",
      "source": [
        "def flexshard(num_features, num_nodes, node_capacity):\n",
        "    # Simulate feature usage across nodes\n",
        "    feature_usage = np.random.randint(0, 100, size=(num_features, num_nodes))\n",
        "\n",
        "    # Calculate the total usage per node\n",
        "    total_usage = feature_usage.sum(axis=0)\n",
        "\n",
        "    # Sort features by their total usage\n",
        "    sorted_indices = np.argsort(total_usage)\n",
        "\n",
        "    # Distribute features to nodes\n",
        "    node_allocation = np.zeros((num_features, num_nodes))\n",
        "    for i, feature in enumerate(range(num_features)):\n",
        "        # Assign feature to the node with the least total usage\n",
        "        node = sorted_indices[i % num_nodes]\n",
        "        node_allocation[feature, node] = 1\n",
        "        total_usage[node] += feature_usage[feature, node]\n",
        "\n",
        "    return node_allocation\n",
        "\n",
        "# Example usage\n",
        "num_nodes = 4\n",
        "node_capacity = 10\n",
        "node_allocation = flexshard(num_features=40, num_nodes=num_nodes, node_capacity=node_capacity)\n",
        "print(f\"Node Allocation:\\n{node_allocation}\")"
      ],
      "metadata": {
        "colab": {
          "base_uri": "https://localhost:8080/"
        },
        "id": "5QpYeRFPve1i",
        "outputId": "f4af206d-1103-43d3-baeb-3fa2fa48a2f1"
      },
      "execution_count": 6,
      "outputs": [
        {
          "output_type": "stream",
          "name": "stdout",
          "text": [
            "Node Allocation:\n",
            "[[0. 0. 0. 1.]\n",
            " [1. 0. 0. 0.]\n",
            " [0. 0. 1. 0.]\n",
            " [0. 1. 0. 0.]\n",
            " [0. 0. 0. 1.]\n",
            " [1. 0. 0. 0.]\n",
            " [0. 0. 1. 0.]\n",
            " [0. 1. 0. 0.]\n",
            " [0. 0. 0. 1.]\n",
            " [1. 0. 0. 0.]\n",
            " [0. 0. 1. 0.]\n",
            " [0. 1. 0. 0.]\n",
            " [0. 0. 0. 1.]\n",
            " [1. 0. 0. 0.]\n",
            " [0. 0. 1. 0.]\n",
            " [0. 1. 0. 0.]\n",
            " [0. 0. 0. 1.]\n",
            " [1. 0. 0. 0.]\n",
            " [0. 0. 1. 0.]\n",
            " [0. 1. 0. 0.]\n",
            " [0. 0. 0. 1.]\n",
            " [1. 0. 0. 0.]\n",
            " [0. 0. 1. 0.]\n",
            " [0. 1. 0. 0.]\n",
            " [0. 0. 0. 1.]\n",
            " [1. 0. 0. 0.]\n",
            " [0. 0. 1. 0.]\n",
            " [0. 1. 0. 0.]\n",
            " [0. 0. 0. 1.]\n",
            " [1. 0. 0. 0.]\n",
            " [0. 0. 1. 0.]\n",
            " [0. 1. 0. 0.]\n",
            " [0. 0. 0. 1.]\n",
            " [1. 0. 0. 0.]\n",
            " [0. 0. 1. 0.]\n",
            " [0. 1. 0. 0.]\n",
            " [0. 0. 0. 1.]\n",
            " [1. 0. 0. 0.]\n",
            " [0. 0. 1. 0.]\n",
            " [0. 1. 0. 0.]]\n"
          ]
        }
      ]
    },
    {
      "cell_type": "markdown",
      "source": [
        "The value 1 indicates that a feature is assigned to a particular node, while 0 isn't.\n",
        "\n",
        "Here more clearly breakdown\n",
        "- Feature 0: Assigned to Node 3 ([0. 0. 0. 1.])\n",
        "- Feature 1: Assigned to Node 0 ([1. 0. 0. 0.])\n",
        "- Feature 2: Assigned to Node 2 ([0. 0. 1. 0.])\n",
        "- Feature 3: Assigned to Node 1 ([0. 1. 0. 0.])\n",
        "- Feature 4: Assigned to Node 3 ([0. 0. 0. 1.])\n",
        "- Feature 5: Assigned to Node 0 ([1. 0. 0. 0.])\n",
        "- And so on ...\n",
        "\n",
        "As you look, the pattern shows that features are being evenly distributed accros the nodes\n",
        "in round-robin fashion. This's because the \"flexshard\" function assigns features to nodes\n",
        "in a cyclic manner based on the least total usage, which, in this simplified example,\n",
        "results in a round robin distribution. (Hopefully you can implement this in the deep learning)\n",
        "\n",
        "\n",
        "\n",
        "Implications\n",
        "- Balance Load, ensuring no single node becomes bottleneck\n",
        "- By distributing features evenly, the inter-node communication is minimized"
      ],
      "metadata": {
        "id": "isPnjjfIwzcx"
      }
    },
    {
      "cell_type": "code",
      "source": [],
      "metadata": {
        "id": "S5EVNC2Cvhpg"
      },
      "execution_count": null,
      "outputs": []
    }
  ]
}