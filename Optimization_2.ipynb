{
  "nbformat": 4,
  "nbformat_minor": 0,
  "metadata": {
    "colab": {
      "provenance": [],
      "gpuType": "T4"
    },
    "kernelspec": {
      "name": "python3",
      "display_name": "Python 3"
    },
    "language_info": {
      "name": "python"
    },
    "accelerator": "GPU"
  },
  "cells": [
    {
      "cell_type": "code",
      "source": [
        "import numpy as np\n",
        "import tensorflow as tf\n",
        "from scipy.optimize import linprog\n",
        "import pandas as pd\n",
        "import matplotlib.pyplot as plt"
      ],
      "metadata": {
        "id": "9OBk4sLHvOBi"
      },
      "execution_count": 26,
      "outputs": []
    },
    {
      "cell_type": "code",
      "source": [
        "np.random.seed(42)\n",
        "tf.random.set_seed(42)\n",
        "\n",
        "# Generate synthetic data for demonstration\n",
        "num_embeddings = 1000\n",
        "embedding_dim = 128\n",
        "batch_size = 32\n",
        "num_batches = 100"
      ],
      "metadata": {
        "id": "S5EVNC2Cvhpg"
      },
      "execution_count": 27,
      "outputs": []
    },
    {
      "cell_type": "code",
      "source": [
        "frequencies = np.random.zipf(2, num_embeddings)  # Zipf's law for skewed distribution\n",
        "frequencies = frequencies / np.sum(frequencies)  # Normalize frequencies\n",
        "\n",
        "# Generate random embedding table\n",
        "embedding_table = np.random.randn(num_embeddings, embedding_dim).astype(np.float32)"
      ],
      "metadata": {
        "id": "PHs7Aqp0yrAk"
      },
      "execution_count": 28,
      "outputs": []
    },
    {
      "cell_type": "code",
      "source": [
        "embedding_table"
      ],
      "metadata": {
        "colab": {
          "base_uri": "https://localhost:8080/"
        },
        "id": "63I8C5sPytfi",
        "outputId": "3f1efd09-cf0b-4212-d160-5257997d7073"
      },
      "execution_count": 11,
      "outputs": [
        {
          "output_type": "execute_result",
          "data": {
            "text/plain": [
              "array([[-0.8096035 ,  0.42406103, -0.47383934, ..., -0.76272476,\n",
              "        -0.7691423 , -0.9399031 ],\n",
              "       [ 0.82947487, -0.19382614, -0.26451483, ..., -1.4675252 ,\n",
              "         0.16476084,  0.0508877 ],\n",
              "       [ 0.17334166,  0.2439532 , -0.22320226, ...,  0.3196518 ,\n",
              "        -0.50417984, -0.08152267],\n",
              "       ...,\n",
              "       [-0.49309   ,  0.25385582,  0.592243  , ...,  0.6755974 ,\n",
              "        -0.01592341,  0.20500964],\n",
              "       [-0.68571943, -0.59505117,  0.71489984, ...,  1.2784437 ,\n",
              "        -1.4234252 ,  0.2894248 ],\n",
              "       [ 0.9834146 , -1.1221254 , -0.8219745 , ..., -0.692645  ,\n",
              "        -1.0381238 , -0.51417375]], dtype=float32)"
            ]
          },
          "metadata": {},
          "execution_count": 11
        }
      ]
    },
    {
      "cell_type": "code",
      "source": [
        "batch_indices = [np.random.choice(num_embeddings, size=batch_size, p=frequencies) for _ in range(num_batches)]"
      ],
      "metadata": {
        "id": "f2rztcERyvdz"
      },
      "execution_count": 29,
      "outputs": []
    },
    {
      "cell_type": "code",
      "source": [
        "def simulate_memory_access(batch_indices, embedding_table, hbm_capacity, dram_capacity, hbm=None):\n",
        "    hbm_access = 0\n",
        "    dram_access = 0\n",
        "    if hbm is None:\n",
        "        hbm = np.zeros(num_embeddings, dtype=bool)\n",
        "\n",
        "    for batch in batch_indices:\n",
        "        for idx in batch:\n",
        "            if not hbm[idx]:\n",
        "                if np.sum(hbm) * embedding_dim < hbm_capacity:\n",
        "                    hbm[idx] = True\n",
        "                    hbm_access += 1\n",
        "                else:\n",
        "                    dram_access += 1\n",
        "            else:\n",
        "                hbm_access += 1\n",
        "\n",
        "    return hbm_access, dram_access\n",
        "\n",
        "# Initial memory access without optimization\n",
        "hbm_capacity = 512 * 1024 * 1024  # 512 MB\n",
        "dram_capacity = 16 * 1024 * 1024 * 1024  # 16 GB\n",
        "\n",
        "hbm_access, dram_access = simulate_memory_access(batch_indices, embedding_table, hbm_capacity, dram_capacity)\n",
        "print(f\"Initial HBM Access: {hbm_access}, DRAM Access: {dram_access}\")"
      ],
      "metadata": {
        "colab": {
          "base_uri": "https://localhost:8080/"
        },
        "id": "wSOqBxYdy1FY",
        "outputId": "c3cf398c-7850-49d0-c664-586cfd951a7e"
      },
      "execution_count": 30,
      "outputs": [
        {
          "output_type": "stream",
          "name": "stdout",
          "text": [
            "Initial HBM Access: 3200, DRAM Access: 0\n"
          ]
        }
      ]
    },
    {
      "cell_type": "code",
      "source": [
        "# RecShard: Memory optimization for single-node systems\n",
        "def recshard(frequencies, embedding_dim, hbm_capacity, dram_capacity):\n",
        "    # Convert capacities to number of embeddings\n",
        "    hbm_capacity = hbm_capacity // embedding_dim\n",
        "    dram_capacity = dram_capacity // embedding_dim\n",
        "\n",
        "    # Ensure total capacity is sufficient\n",
        "    if hbm_capacity + dram_capacity < num_embeddings:\n",
        "        raise ValueError(\"Total capacity (HBM + DRAM) is insufficient to hold all embeddings.\")\n",
        "\n",
        "    # Define the optimization problem\n",
        "    c = -frequencies  # Minimize the negative of frequencies to maximize them\n",
        "    A_eq = [np.ones(num_embeddings)]\n",
        "    b_eq = [hbm_capacity + dram_capacity]\n",
        "    bounds = [(0, 1) for _ in range(num_embeddings)]\n",
        "\n",
        "    # Solve the linear programming problem\n",
        "    res = linprog(c, A_eq=A_eq, b_eq=b_eq, bounds=bounds, method='highs')\n",
        "\n",
        "    if res.success:\n",
        "        # Assign embeddings to HBM and DRAM\n",
        "        hbm = res.x > 0.5\n",
        "        drams = res.x <= 0.5\n",
        "    else:\n",
        "        # Heuristic approach if LP fails\n",
        "        sorted_indices = np.argsort(-frequencies)\n",
        "        hbm = np.zeros(num_embeddings, dtype=bool)\n",
        "        for i in sorted_indices:\n",
        "            if np.sum(hbm) < hbm_capacity:\n",
        "                hbm[i] = True\n",
        "        drams = np.logical_not(hbm)\n",
        "\n",
        "    return hbm, drams\n",
        "\n",
        "# Apply RecShard\n",
        "try:\n",
        "    hbm, drams = recshard(frequencies, embedding_dim, hbm_capacity, dram_capacity)\n",
        "except ValueError as e:\n",
        "    print(e)\n",
        "    hbm = np.zeros(num_embeddings, dtype=bool)  # Fallback to no optimization\n",
        "\n",
        "# Simulate memory access with RecShard\n",
        "hbm_access, dram_access = simulate_memory_access(batch_indices, embedding_table, hbm_capacity, dram_capacity, hbm=hbm)\n",
        "print(f\"RecShard HBM Access: {hbm_access}, DRAM Access: {dram_access}\")\n"
      ],
      "metadata": {
        "colab": {
          "base_uri": "https://localhost:8080/"
        },
        "id": "lo2FLsIFzGig",
        "outputId": "828f1332-8bc7-4918-9a87-a99a74d1599f"
      },
      "execution_count": 32,
      "outputs": [
        {
          "output_type": "stream",
          "name": "stdout",
          "text": [
            "RecShard HBM Access: 3200, DRAM Access: 0\n"
          ]
        }
      ]
    },
    {
      "cell_type": "code",
      "source": [
        "# FlexShard: Memory optimization for multi-node systems\n",
        "def flexshard(frequencies, embedding_dim, hbm_capacity, dram_capacity, num_nodes):\n",
        "    # Convert capacities to number of embeddings\n",
        "    hbm_capacity = hbm_capacity // embedding_dim\n",
        "    dram_capacity = dram_capacity // embedding_dim\n",
        "\n",
        "    # Ensure total capacity is sufficient\n",
        "    if hbm_capacity + dram_capacity < num_embeddings:\n",
        "        raise ValueError(\"Total capacity (HBM + DRAM) is insufficient to hold all embeddings.\")\n",
        "\n",
        "    # Define the optimization problem\n",
        "    c = -frequencies  # Minimize the negative of frequencies to maximize them\n",
        "    A_eq = [np.ones(num_embeddings)]\n",
        "    b_eq = [hbm_capacity + dram_capacity]\n",
        "    bounds = [(0, 1) for _ in range(num_embeddings)]\n",
        "\n",
        "    # Solve the linear programming problem\n",
        "    res = linprog(c, A_eq=A_eq, b_eq=b_eq, bounds=bounds, method='highs')\n",
        "\n",
        "    if res.success:\n",
        "        # Assign embeddings to nodes\n",
        "        node_assignments = np.zeros(num_embeddings, dtype=int)\n",
        "        node_loads = np.zeros(num_nodes)\n",
        "\n",
        "        for i in range(num_embeddings):\n",
        "            if res.x[i] > 0.5:\n",
        "                node_assignments[i] = np.argmin(node_loads)\n",
        "                node_loads[node_assignments[i]] += 1\n",
        "    else:\n",
        "        # Heuristic approach if LP fails\n",
        "        sorted_indices = np.argsort(-frequencies)\n",
        "        node_assignments = np.zeros(num_embeddings, dtype=int)\n",
        "        node_loads = np.zeros(num_nodes)\n",
        "        for i in sorted_indices:\n",
        "            node_assignments[i] = np.argmin(node_loads)\n",
        "            node_loads[node_assignments[i]] += 1\n",
        "\n",
        "    return node_assignments, node_loads\n",
        "\n",
        "# Apply FlexShard\n",
        "num_nodes = 4\n",
        "try:\n",
        "    node_assignments, node_loads = flexshard(frequencies, embedding_dim, hbm_capacity, dram_capacity, num_nodes)\n",
        "except ValueError as e:\n",
        "    print(e)\n",
        "    node_assignments = np.zeros(num_embeddings, dtype=int)  # Fallback to no optimization"
      ],
      "metadata": {
        "id": "-ee_SGgozKGg"
      },
      "execution_count": 33,
      "outputs": []
    },
    {
      "cell_type": "code",
      "source": [
        "def simulate_memory_access_flexshard(batch_indices, embedding_table, hbm_capacity, dram_capacity, node_assignments, num_nodes):\n",
        "    hbm_access = 0\n",
        "    dram_access = 0\n",
        "    node_communication = 0\n",
        "    hbm = np.zeros(num_embeddings, dtype=bool)\n",
        "\n",
        "    for batch in batch_indices:\n",
        "        for idx in batch:\n",
        "            if not hbm[idx]:\n",
        "                if np.sum(hbm) * embedding_dim < hbm_capacity:\n",
        "                    hbm[idx] = True\n",
        "                    hbm_access += 1\n",
        "                else:\n",
        "                    dram_access += 1\n",
        "            else:\n",
        "                hbm_access += 1\n",
        "\n",
        "            # Check if the embedding is on the same node\n",
        "            if node_assignments[idx] != node_assignments[batch[0]]:\n",
        "                node_communication += 1\n",
        "\n",
        "    return hbm_access, dram_access, node_communication\n",
        "\n",
        "# Simulate memory access with FlexShard\n",
        "hbm_access, dram_access, node_communication = simulate_memory_access_flexshard(batch_indices, embedding_table, hbm_capacity, dram_capacity, node_assignments, num_nodes)\n",
        "print(f\"FlexShard HBM Access: {hbm_access}, DRAM Access: {dram_access}, Node Communication: {node_communication}\")"
      ],
      "metadata": {
        "colab": {
          "base_uri": "https://localhost:8080/"
        },
        "id": "rUh4ZY940OAY",
        "outputId": "cf3100c5-e1ac-40a6-b8e0-29448c0b584a"
      },
      "execution_count": 34,
      "outputs": [
        {
          "output_type": "stream",
          "name": "stdout",
          "text": [
            "FlexShard HBM Access: 3200, DRAM Access: 0, Node Communication: 2195\n"
          ]
        }
      ]
    },
    {
      "cell_type": "code",
      "source": [
        "plt.figure(figsize=(12, 6))\n",
        "plt.bar(['Initial', 'RecShard', 'FlexShard'], [dram_access, dram_access, dram_access], label='DRAM Access')\n",
        "plt.bar(['Initial', 'RecShard', 'FlexShard'], [hbm_access, hbm_access, hbm_access], bottom=[dram_access, dram_access, dram_access], label='HBM Access')\n",
        "plt.bar(['FlexShard'], [node_communication], bottom=[hbm_access + dram_access], label='Node Communication')\n",
        "plt.xlabel('Optimization Technique')\n",
        "plt.ylabel('Access Count')\n",
        "plt.title('Memory Access and Communication Costs')\n",
        "plt.legend()\n",
        "plt.show()"
      ],
      "metadata": {
        "colab": {
          "base_uri": "https://localhost:8080/",
          "height": 564
        },
        "id": "hJysnYbA0ROg",
        "outputId": "9f662683-20ca-4833-bf1c-ea026eb96195"
      },
      "execution_count": 35,
      "outputs": [
        {
          "output_type": "display_data",
          "data": {
            "text/plain": [
              "<Figure size 1200x600 with 1 Axes>"
            ],
            "image/png": "[encoded data removed]"
          },
          "metadata": {}
        }
      ]
    },
    {
      "cell_type": "code",
      "source": [],
      "metadata": {
        "id": "ktCyMZA_0TuY"
      },
      "execution_count": null,
      "outputs": []
    }
  ]
}